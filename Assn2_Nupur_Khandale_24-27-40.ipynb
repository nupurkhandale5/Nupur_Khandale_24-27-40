{
 "cells": [
  {
   "cell_type": "markdown",
   "id": "35fc9c69-5ecd-4ad5-9f95-70178e2448e7",
   "metadata": {},
   "source": [
    "### DSTT Assignment 2\n",
    "### Nupur Khandale\n",
    "### Reg No.: 24-27-40\n",
    "### Branch : M.Tech(Data Science)"
   ]
  },
  {
   "cell_type": "code",
   "execution_count": 1,
   "id": "aaa94c41-a5b2-4d57-ad72-c9915438d62a",
   "metadata": {},
   "outputs": [],
   "source": [
    "import numpy as np"
   ]
  },
  {
   "cell_type": "markdown",
   "id": "25c8aa07-0be9-4316-a2d6-e3a30529c88f",
   "metadata": {},
   "source": [
    "### Question 1"
   ]
  },
  {
   "cell_type": "markdown",
   "id": "16b2405c-adb2-4712-b90f-094390b41ff6",
   "metadata": {},
   "source": [
    "a) Create a variable named var1 that stores an array of numbers from 0 to 30,\n",
    "inclusive. Print var1 and its shape. Hint : arange"
   ]
  },
  {
   "cell_type": "code",
   "execution_count": 2,
   "id": "221167f6-86b8-4038-9d92-9c10ea6b1103",
   "metadata": {},
   "outputs": [
    {
     "data": {
      "text/plain": [
       "array([ 0,  1,  2,  3,  4,  5,  6,  7,  8,  9, 10, 11, 12, 13, 14, 15, 16,\n",
       "       17, 18, 19, 20, 21, 22, 23, 24, 25, 26, 27, 28, 29, 30])"
      ]
     },
     "execution_count": 2,
     "metadata": {},
     "output_type": "execute_result"
    }
   ],
   "source": [
    "var1 = np.arange(31)\n",
    "var1"
   ]
  },
  {
   "cell_type": "markdown",
   "id": "e0f6abc3-e2fa-4b84-a6bd-e4603ca2f15d",
   "metadata": {},
   "source": [
    "b) Change var2 to a validly-shaped two-dimensional matrix and store it in a\n",
    "new variable called var2. Print var2 and its shape. Hint: Use the reshape function"
   ]
  },
  {
   "cell_type": "code",
   "execution_count": 4,
   "id": "e6cc01a8-f01c-4a89-9d4f-3c0fb580c0dc",
   "metadata": {},
   "outputs": [
    {
     "data": {
      "text/plain": [
       "array([ 0,  1,  2,  3,  4,  5,  6,  7,  8,  9, 10, 11, 12, 13, 14, 15, 16,\n",
       "       17, 18, 19, 20, 21, 22, 23, 24, 25, 26, 27, 28, 29])"
      ]
     },
     "execution_count": 4,
     "metadata": {},
     "output_type": "execute_result"
    }
   ],
   "source": [
    "var2 = np.arange(30)\n",
    "var2"
   ]
  },
  {
   "cell_type": "code",
   "execution_count": 6,
   "id": "558ae023-dad0-4644-8dfe-0d45b34eff3e",
   "metadata": {},
   "outputs": [
    {
     "data": {
      "text/plain": [
       "array([[ 0,  1,  2,  3,  4,  5,  6,  7,  8,  9],\n",
       "       [10, 11, 12, 13, 14, 15, 16, 17, 18, 19],\n",
       "       [20, 21, 22, 23, 24, 25, 26, 27, 28, 29]])"
      ]
     },
     "execution_count": 6,
     "metadata": {},
     "output_type": "execute_result"
    }
   ],
   "source": [
    "var2 = var2.reshape(3,10)\n",
    "var2"
   ]
  },
  {
   "cell_type": "markdown",
   "id": "7d3b6b2e-a42b-4be4-870b-5beb0f6c5cd1",
   "metadata": {},
   "source": [
    "c) Create a third variable, var3 that reshapes it into a valid three-dimensional shape.\n",
    "Print var3 and its shape."
   ]
  },
  {
   "cell_type": "code",
   "execution_count": 9,
   "id": "a14df4dc-7871-4ba1-82d6-c1e666e750c7",
   "metadata": {},
   "outputs": [
    {
     "data": {
      "text/plain": [
       "array([ 0,  1,  2,  3,  4,  5,  6,  7,  8,  9, 10, 11, 12, 13, 14, 15, 16,\n",
       "       17, 18, 19, 20, 21, 22, 23, 24, 25, 26])"
      ]
     },
     "execution_count": 9,
     "metadata": {},
     "output_type": "execute_result"
    }
   ],
   "source": [
    "var3 = np.arange(27)\n",
    "var3"
   ]
  },
  {
   "cell_type": "code",
   "execution_count": 12,
   "id": "8b35dc07-558e-4f3b-a645-4669aa02457e",
   "metadata": {},
   "outputs": [
    {
     "data": {
      "text/plain": [
       "array([[[ 0,  1,  2],\n",
       "        [ 3,  4,  5],\n",
       "        [ 6,  7,  8]],\n",
       "\n",
       "       [[ 9, 10, 11],\n",
       "        [12, 13, 14],\n",
       "        [15, 16, 17]],\n",
       "\n",
       "       [[18, 19, 20],\n",
       "        [21, 22, 23],\n",
       "        [24, 25, 26]]])"
      ]
     },
     "execution_count": 12,
     "metadata": {},
     "output_type": "execute_result"
    }
   ],
   "source": [
    "var3 = var3.reshape(3,3,3)\n",
    "var3"
   ]
  },
  {
   "cell_type": "markdown",
   "id": "a66a1159-1b84-45d3-812f-4c1602b0a891",
   "metadata": {},
   "source": [
    "d) Use two-dimensional array indexing to set the first value in the second row of var2\n",
    "to -1. Now look at var1 and var3. Did they change? Explain what’s\n",
    "going on. (Hint: does reshape return a view or a copy?)"
   ]
  },
  {
   "cell_type": "code",
   "execution_count": 16,
   "id": "73a13e6a-2824-46bc-bd0f-6913800e0220",
   "metadata": {},
   "outputs": [
    {
     "data": {
      "text/plain": [
       "array([[ 0,  1,  2,  3,  4,  5,  6,  7,  8,  9],\n",
       "       [-1, 11, 12, 13, 14, 15, 16, 17, 18, 19],\n",
       "       [20, 21, 22, 23, 24, 25, 26, 27, 28, 29]])"
      ]
     },
     "execution_count": 16,
     "metadata": {},
     "output_type": "execute_result"
    }
   ],
   "source": [
    "var2[1,0]=-1\n",
    "var2"
   ]
  },
  {
   "cell_type": "code",
   "execution_count": 20,
   "id": "3f8efe8c-b7c3-4faf-be00-a2739f8137ed",
   "metadata": {},
   "outputs": [
    {
     "name": "stdout",
     "output_type": "stream",
     "text": [
      "[ 0  1  2  3  4  5  6  7  8  9 10 11 12 13 14 15 16 17 18 19 20 21 22 23\n",
      " 24 25 26 27 28 29 30]\n",
      "[[[ 0  1  2]\n",
      "  [ 3  4  5]\n",
      "  [ 6  7  8]]\n",
      "\n",
      " [[ 9 10 11]\n",
      "  [12 13 14]\n",
      "  [15 16 17]]\n",
      "\n",
      " [[18 19 20]\n",
      "  [21 22 23]\n",
      "  [24 25 26]]]\n"
     ]
    }
   ],
   "source": [
    "print(var1)\n",
    "print(var3)"
   ]
  },
  {
   "cell_type": "markdown",
   "id": "62908140-5240-4ccb-9ca7-8fbee0aeccf0",
   "metadata": {},
   "source": [
    "e) Another thing that comes up a lot with array shapes is thinking about how to\n",
    "aggregate over specific dimensions. Figure out how the NumPy sum function\n",
    "works (and the axis argument in particular) and do the following:\n",
    "    (i) Sum var3 over its second dimension and print the result.\n",
    "    (ii) Sum var3 over its third dimension and print the result.\n",
    "    (iii) Sum var3 over both its first and third dimensions and print the result.\n",
    "    "
   ]
  },
  {
   "cell_type": "code",
   "execution_count": 23,
   "id": "9a23b355-759e-4bd2-acc0-b87e41b46cee",
   "metadata": {},
   "outputs": [
    {
     "name": "stdout",
     "output_type": "stream",
     "text": [
      "[[ 9 12 15]\n",
      " [36 39 42]\n",
      " [63 66 69]]\n"
     ]
    }
   ],
   "source": [
    "sumvar3 = np.sum(var3,axis=1)\n",
    "print(sumvar3)"
   ]
  },
  {
   "cell_type": "code",
   "execution_count": 27,
   "id": "ae78eefc-6902-4707-aad3-78110f7cdfc7",
   "metadata": {},
   "outputs": [
    {
     "name": "stdout",
     "output_type": "stream",
     "text": [
      "[[ 3 12 21]\n",
      " [30 39 48]\n",
      " [57 66 75]]\n"
     ]
    }
   ],
   "source": [
    " sum_over_third=np.sum(var3,axis=2)\n",
    " print(sum_over_third)"
   ]
  },
  {
   "cell_type": "code",
   "execution_count": 31,
   "id": "6d8d0b9f-de8d-4c7a-94d1-32b73de2da6f",
   "metadata": {},
   "outputs": [
    {
     "name": "stdout",
     "output_type": "stream",
     "text": [
      "[ 90 117 144]\n"
     ]
    }
   ],
   "source": [
    "sum_over_first_second=np.sum(var3,axis=(0,2))\n",
    "print(sum_over_first_second)"
   ]
  },
  {
   "cell_type": "markdown",
   "id": "53e5ba9c-4504-4208-9bc6-9ab9a619475e",
   "metadata": {},
   "source": [
    "f) Write code to do the following:\n",
    "    (i) Slice out the second row of var2 and print it.\n",
    "    (ii) Slice out the last column of var2 using the -1 notation and print it.\n",
    "    (iii) Slice out the top right 2 × 2 submatrix of var2 and print it."
   ]
  },
  {
   "cell_type": "code",
   "execution_count": 35,
   "id": "206b3d6c-92bb-4e92-83eb-c89b6f749dad",
   "metadata": {},
   "outputs": [
    {
     "name": "stdout",
     "output_type": "stream",
     "text": [
      "[[-1 11 12 13 14 15 16 17 18 19]]\n",
      "[ 9 19 29]\n",
      "[[ 8  9]\n",
      " [18 19]]\n"
     ]
    }
   ],
   "source": [
    " print(var2[1:2])\n",
    " print(var2[0:,-1])\n",
    " print(var2[:2,-2:])"
   ]
  },
  {
   "cell_type": "markdown",
   "id": "50e75ed5-e5e1-4962-9daf-d0e50de27c89",
   "metadata": {},
   "source": [
    "### Question 2"
   ]
  },
  {
   "cell_type": "markdown",
   "id": "c4fccf28-3076-4c54-8607-61c08987dfcc",
   "metadata": {},
   "source": [
    "a) The most basic kind of broadcast is with a scalar, in which you can perform a\n",
    "binary operation (e.g., add, multiply, ...) on an array and a scalar, the effect is to\n",
    "perform that operation with the scalar for every element of the array. To try this\n",
    "out, create a vector 1, 2, . . . , 10 by adding 1 to the result of the arange function.\n"
   ]
  },
  {
   "cell_type": "code",
   "execution_count": 38,
   "id": "a0ce38e7-8a59-4f34-ac1c-a691c31929f8",
   "metadata": {},
   "outputs": [
    {
     "name": "stdout",
     "output_type": "stream",
     "text": [
      "[ 1  2  3  4  5  6  7  8  9 10]\n"
     ]
    }
   ],
   "source": [
    "import numpy as np\n",
    "\n",
    "res = np.arange(0,10,1)\n",
    "res_broadcasted = res+1\n",
    "print(res_broadcasted)"
   ]
  },
  {
   "cell_type": "markdown",
   "id": "030f1d77-ff37-4460-9f6c-c0ac5e0a90e9",
   "metadata": {},
   "source": [
    "b) Now, create a 10 × 10 matrix A in which Ai j = i + j. You’ll be able to do this\n",
    "using the vector you just created, and adding it to a reshaped version of itself.\n"
   ]
  },
  {
   "cell_type": "code",
   "execution_count": 43,
   "id": "70cfc213-3060-4814-ba1e-f712f651494a",
   "metadata": {},
   "outputs": [
    {
     "name": "stdout",
     "output_type": "stream",
     "text": [
      "[[ 0  1  2  3  4  5  6  7  8  9]\n",
      " [ 1  2  3  4  5  6  7  8  9 10]\n",
      " [ 2  3  4  5  6  7  8  9 10 11]\n",
      " [ 3  4  5  6  7  8  9 10 11 12]\n",
      " [ 4  5  6  7  8  9 10 11 12 13]\n",
      " [ 5  6  7  8  9 10 11 12 13 14]\n",
      " [ 6  7  8  9 10 11 12 13 14 15]\n",
      " [ 7  8  9 10 11 12 13 14 15 16]\n",
      " [ 8  9 10 11 12 13 14 15 16 17]\n",
      " [ 9 10 11 12 13 14 15 16 17 18]]\n"
     ]
    }
   ],
   "source": [
    " A = res+res.reshape(10,1)\n",
    " print(A)"
   ]
  },
  {
   "cell_type": "markdown",
   "id": "b295b086-56c3-4a79-ad8b-f0e5e4c59cdb",
   "metadata": {},
   "source": [
    "c) A very common use of broadcasting is to standardize data, i.e., to make it have\n",
    "zero mean and unit variance. First, create a fake “data set” with 50 examples,\n",
    "each with five dimensions.\n",
    "import numpy.random as npr\n",
    "data = np.exp(npr.randn ( 50 , 5 ) )\n"
   ]
  },
  {
   "cell_type": "code",
   "execution_count": 47,
   "id": "250fe5a2-1b73-4de2-a4fd-d0256e094424",
   "metadata": {},
   "outputs": [],
   "source": [
    " data = np.exp(np.random.randn(50,5))"
   ]
  },
  {
   "cell_type": "markdown",
   "id": "3df2a124-585e-45e9-9d16-120dc99f2ac5",
   "metadata": {},
   "source": [
    "d) You don’t worry too much about what this code is doing at this stage of the\n",
    "course, but for completeness: it imports the NumPy random number generation\n",
    "library, then generates a 50 × 5 matrix of standard normal\n",
    "M.Tech. Data Science and Modelling & Simulation\n",
    "random variates and exponentiates them. The effect of this is to have a pretend\n",
    "data set of 50 independent and identically-distributed vectors from a log-normal\n",
    "distribution.\n"
   ]
  },
  {
   "cell_type": "code",
   "execution_count": 56,
   "id": "8810f405-ccfd-40f9-94d8-205c24bb4e12",
   "metadata": {},
   "outputs": [],
   "source": [
    " means = np.mean(data,axis=0)\n",
    " sd = np.std(data,axis=0)"
   ]
  },
  {
   "cell_type": "markdown",
   "id": "adaed880-a930-4c33-b4f6-da56e6cbfd5b",
   "metadata": {},
   "source": [
    "e) Now, compute the mean and standard deviation of each column. This should\n",
    "result in two vectors of length 5. You’ll need to think a little bit about how to use\n",
    "the axis argument to mean and std. Store these vectors into variables and print\n",
    "both of them."
   ]
  },
  {
   "cell_type": "code",
   "execution_count": 62,
   "id": "43685c34-0644-484e-8a3f-561e54dca074",
   "metadata": {},
   "outputs": [
    {
     "name": "stdout",
     "output_type": "stream",
     "text": [
      "Mean= [1.69981148 1.64066283 1.84055518 1.66325436 1.63164527]\n",
      "Standard Diviation= [1.87217786 1.56100806 3.00631607 2.26339521 1.487422  ]\n"
     ]
    }
   ],
   "source": [
    "print('Mean= '+str(means))\n",
    "print('Standard Diviation= '+str(sd))"
   ]
  },
  {
   "cell_type": "markdown",
   "id": "df152f9b-3800-4a91-bfc1-6a167eea4fe6",
   "metadata": {},
   "source": [
    "f) Now standardize the data matrix by \n",
    "    1) subtracting the mean off of each column,\n",
    "        and\n",
    "    2) dividing each column by its standard deviation. Do this via broadcasting,\n",
    "        and store the result in a matrix called normalized. To verify that you successfully\n",
    "        did it, compute the mean and standard deviation of\n",
    "        the columns of normalized and print them out."
   ]
  },
  {
   "cell_type": "code",
   "execution_count": 71,
   "id": "80680071-5cdc-43d6-8b58-097179072817",
   "metadata": {},
   "outputs": [],
   "source": [
    " std_data=(data-means)/sd"
   ]
  },
  {
   "cell_type": "code",
   "execution_count": 79,
   "id": "c804232a-ce85-4583-a688-f68a68a5eede",
   "metadata": {},
   "outputs": [
    {
     "name": "stdout",
     "output_type": "stream",
     "text": [
      "[ 6.21724894e-17 -2.22044605e-18 -8.04911693e-17 -3.63042929e-16\n",
      "  1.77635684e-17]\n",
      "[1. 1. 1. 1. 1.]\n"
     ]
    }
   ],
   "source": [
    "new_means = np.mean(std_data,axis=0)\n",
    "new_sd = np.std(std_data,axis=0)\n",
    "print(new_means)\n",
    "print(new_sd)"
   ]
  },
  {
   "cell_type": "markdown",
   "id": "09d6616a-f3d9-4b0c-aece-aad4deba3dbd",
   "metadata": {},
   "source": [
    "### Question 3"
   ]
  },
  {
   "cell_type": "markdown",
   "id": "4cafe5f6-54f3-475b-819c-4294c640a198",
   "metadata": {},
   "source": [
    "a) A Vandermonde matrix is a matrix generated from a vector in which each column\n",
    "of the matrix is an integer power starting from zero. So, if I have a column vector\n",
    "[x1, x2, . . . , xN]\n",
    "T, then the associated (square) Vandermonde matrix would be\n",
    "Use what you learned about broadcasting in the previous problem to write a\n",
    "function that will produce a Vandermonde matrix for a vector [1, 2, . . . ,N]T\n",
    "for any N. Do it without using a loop. Here’s a stub to get you started:\n",
    "def vandermonde (N):\n",
    "vec = np.arange (N) +1\n",
    "# write your code here .\n",
    "Use your function for N = 12, store it in variable named vander, and print the\n",
    "result."
   ]
  },
  {
   "cell_type": "code",
   "execution_count": 88,
   "id": "bd6fa556-d8c2-4ba2-a82d-904d35085be5",
   "metadata": {},
   "outputs": [
    {
     "name": "stdout",
     "output_type": "stream",
     "text": [
      "[[          1           1           1           1           1           1\n",
      "            1           1           1           1           1           1]\n",
      " [          1           2           4           8          16          32\n",
      "           64         128         256         512        1024        2048]\n",
      " [          1           3           9          27          81         243\n",
      "          729        2187        6561       19683       59049      177147]\n",
      " [          1           4          16          64         256        1024\n",
      "         4096       16384       65536      262144     1048576     4194304]\n",
      " [          1           5          25         125         625        3125\n",
      "        15625       78125      390625     1953125     9765625    48828125]\n",
      " [          1           6          36         216        1296        7776\n",
      "        46656      279936     1679616    10077696    60466176   362797056]\n",
      " [          1           7          49         343        2401       16807\n",
      "       117649      823543     5764801    40353607   282475249  1977326743]\n",
      " [          1           8          64         512        4096       32768\n",
      "       262144     2097152    16777216   134217728  1073741824           0]\n",
      " [          1           9          81         729        6561       59049\n",
      "       531441     4782969    43046721   387420489  -808182895  1316288537]\n",
      " [          1          10         100        1000       10000      100000\n",
      "      1000000    10000000   100000000  1000000000  1410065408  1215752192]\n",
      " [          1          11         121        1331       14641      161051\n",
      "      1771561    19487171   214358881 -1937019605   167620825  1843829075]\n",
      " [          1          12         144        1728       20736      248832\n",
      "      2985984    35831808   429981696   864813056  1787822080   -20971520]]\n"
     ]
    }
   ],
   "source": [
    "def vander_Function(N):\n",
    "    vec=np.arange(N)+1\n",
    "    vander=vec.reshape(N,1)\n",
    "    vander=vander**np.arange(N)\n",
    "    return vander\n",
    "    \n",
    "vander=vander_Function(12)\n",
    "print(vander)"
   ]
  },
  {
   "cell_type": "markdown",
   "id": "f815af7d-0787-45cf-b09a-cbc1863e6281",
   "metadata": {},
   "source": [
    "b) Now, let’s make a pretend linear system problem with this matrix. Create a vector\n",
    "of all ones, of length 12 and call it x. Perform a matrix-vector multiplication of\n",
    "vander with the vector you just created and store that in a new vector and call it b.\n",
    "Print the vector b."
   ]
  },
  {
   "cell_type": "code",
   "execution_count": 95,
   "id": "4bc83ed5-d270-40b7-9e51-44e7b351682d",
   "metadata": {},
   "outputs": [
    {
     "data": {
      "text/plain": [
       "array([1., 1., 1., 1., 1., 1., 1., 1., 1., 1., 1., 1.])"
      ]
     },
     "execution_count": 95,
     "metadata": {},
     "output_type": "execute_result"
    }
   ],
   "source": [
    "x = np.ones(12)\n",
    "x"
   ]
  },
  {
   "cell_type": "code",
   "execution_count": 99,
   "id": "c0a60964-15ea-4730-af5e-65f2c91ed9cf",
   "metadata": {},
   "outputs": [
    {
     "data": {
      "text/plain": [
       "array([1.20000000e+01, 4.09500000e+03, 2.65720000e+05, 5.59240500e+06,\n",
       "       6.10351560e+07, 4.35356467e+08, 2.30688120e+09, 1.22713351e+09,\n",
       "       9.43953692e+08, 3.73692871e+09, 3.10225064e+08, 3.10073456e+09])"
      ]
     },
     "execution_count": 99,
     "metadata": {},
     "output_type": "execute_result"
    }
   ],
   "source": [
    "b = np.dot(vander,x)\n",
    "b"
   ]
  },
  {
   "cell_type": "markdown",
   "id": "1d14ab27-cecc-45c9-91e7-cd0973e70f8f",
   "metadata": {},
   "source": [
    "c) First, solve the linear system the naïve way, pretending like you don’t know x.\n",
    "Import numpy.linalg, invert V and multiply it by b. Print out your result. What\n",
    "should you get for your answer? If the answer is different than what you\n",
    "expected, write a sentence about that difference."
   ]
  },
  {
   "cell_type": "code",
   "execution_count": 104,
   "id": "ee29adba-2e12-4992-b40d-6495c4ea8755",
   "metadata": {},
   "outputs": [
    {
     "name": "stdout",
     "output_type": "stream",
     "text": [
      "[0.99620819 1.00462723 0.99909973 1.00006104 0.99999666 1.00000048\n",
      " 0.99999995 1.         1.         1.         1.         1.        ]\n"
     ]
    }
   ],
   "source": [
    "inv_v = np.linalg.inv(vander)\n",
    "res = np.dot(inv_v,b)\n",
    "print(res)"
   ]
  },
  {
   "cell_type": "markdown",
   "id": "5c7c395d-fdc9-473d-92b4-26410311cf86",
   "metadata": {},
   "source": [
    "d) Now, solve the same linear system using solve. Print out the result. Does it seem\n",
    "more or less in line with what you’d expect?"
   ]
  },
  {
   "cell_type": "code",
   "execution_count": 109,
   "id": "c72176ca-39bd-4937-beb2-b2fc6e507032",
   "metadata": {},
   "outputs": [
    {
     "name": "stdout",
     "output_type": "stream",
     "text": [
      "[0.99998827 1.00002951 0.99997139 1.00001427 0.99999595 1.00000068\n",
      " 0.99999993 1.         1.         1.         1.         1.        ]\n"
     ]
    }
   ],
   "source": [
    "res2 = np.linalg.solve(vander,b)\n",
    "print(res2)"
   ]
  },
  {
   "cell_type": "markdown",
   "id": "e3226b36-07ce-4a08-9c15-8bd15c63d0d9",
   "metadata": {},
   "source": [
    "<b>Github Profile : https://github.com/nupurkhandale5 <b>\n",
    "<br>\n",
    "<b>Github link : https://github.com/nupurkhandale5/Nupur_Khandale_24-27-40<b>"
   ]
  },
  {
   "cell_type": "code",
   "execution_count": null,
   "id": "6a3d1d47",
   "metadata": {},
   "outputs": [],
   "source": []
  }
 ],
 "metadata": {
  "kernelspec": {
   "display_name": "Python 3 (ipykernel)",
   "language": "python",
   "name": "python3"
  },
  "language_info": {
   "codemirror_mode": {
    "name": "ipython",
    "version": 3
   },
   "file_extension": ".py",
   "mimetype": "text/x-python",
   "name": "python",
   "nbconvert_exporter": "python",
   "pygments_lexer": "ipython3",
   "version": "3.9.13"
  }
 },
 "nbformat": 4,
 "nbformat_minor": 5
}
